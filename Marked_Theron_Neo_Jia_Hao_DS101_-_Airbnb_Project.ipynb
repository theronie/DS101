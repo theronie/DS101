{
 "cells": [
  {
   "cell_type": "markdown",
   "metadata": {},
   "source": [
    "<img src=\"https://i2.wp.com/hackwagon.com/wp-content/uploads/2017/02/Logo-Web-Export.png?ssl=1\" width=200/>\n",
    "\n",
    "<h1>Hackwagon Academy - DS101 </h1>\n",
    "\n",
    "<h1>AirBnB Project</h1>\n",
    "\n",
    "<b>Learning Outcomes:</b>\n",
    "\n",
    "- Learn how to translate business requirements into workable applications\n",
    "- Declare variables, and manipulate the variables to perform arithmetic operations\n",
    "- Create a list, append new elements to a list, remove elements from list, and access elements within a list\n",
    "- Create a dictionary, access data, and update information within the dictionary\n",
    "- Be able to aptly make use of if and nested if constructs\n",
    "- Variable conversion\n",
    "- Produce visualisations\n",
    "- Able to come up with insights based on the data "
   ]
  },
  {
   "cell_type": "code",
   "execution_count": 1,
   "metadata": {},
   "outputs": [],
   "source": [
    "#Before you start, please perform the following 2 steps:\n",
    "#1. Rename the file to <First_Name>_<Last_Name>_DS101_Lab_1 e.g. john_doe_DS101_Lab_1\n",
    "\n",
    "#2. Fill in your details here:\n",
    "#Name                    : _Theron Neo Jia Hao_\n",
    "\n",
    "#Start of Course Class(Edit accordingly): __4 May 2019 9.00pm____\n",
    "# FOR TA/INSTRUCTOR \n",
    "# Total Marks: 95 / 100\n",
    "# Part 1: 5 / 5\n",
    "# Part 2: 25 / 25\n",
    "# Part 3: 5 / 10\n",
    "# Part 4: 60 / 60"
   ]
  },
  {
   "cell_type": "markdown",
   "metadata": {},
   "source": [
    "<div class=\"alert alert-block alert-info\">\n",
    "\n",
    "This project is split into 4 different parts:\n",
    "1. Data Cleaning (5 marks)\n",
    "2. Explorator Data Analysis (25 marks)\n",
    "3. Interpretation (10 marks)\n",
    "4. AirBnB Visualisation and Price Recommender App (60 marks)\n",
    "\n",
    "<b>All questions must follow expected output to be awarded full marks except the following:</b>\n",
    "1. Interpretation \n",
    "</div>"
   ]
  },
  {
   "cell_type": "markdown",
   "metadata": {},
   "source": [
    "<h2> References </h2>\n",
    "\n",
    "<h3> <center> Important Collections Functions </center> </h3>\n",
    "<h3> <center> Creation </center></h3>\n",
    "\n",
    "|Collection Type | Function | Examples |\n",
    "| ---------|---------|---------|\n",
    "| `list` | <center>None</center>| `new_list = []` <br><br> `new_list = [1,2,3,4]` |\n",
    "| `dict` | <center>None</center>| `new_dict = {}` <br><br> `new_dict = {'a': 1, 'b':2}`|\n",
    "\n",
    "<h3><center> Add / Appending Data </center></h3>\n",
    "\n",
    "|Collection Type | Functions | Examples | Resulting Output|\n",
    "| ---------|---------|---------| ------ |\n",
    "| `list` | <center>`.append()`</center>| `new_list = [1,2,3]` <br><br> `new_list.append(4)` | `[1,2,3,4]`|\n",
    "| `list` | <center>`.extend()`</center>| `new_list = [1,2]` <br><br> `new_list.extend([3,4])` | `[1,2,3,4]`|\n",
    "| `dict` | <center>None</center>| `new_dict = {}` <br><br> `new_dict['a'] = 1` <br><br> `new_dict['b'] = 2` | `{'a': 1, 'b':2}`|\n",
    "\n",
    "<h3> <center> Updating / Changing Data </center></h3>\n",
    "\n",
    "|Collection Type | Functions | Examples | Resulting Output|\n",
    "| ---------|---------|---------| ------ |\n",
    "| `list` | <center>None</center>| `new_list = [1,2,3]` <br><br> `new_list[0] = 5` | `[5,2,3]`|\n",
    "| `dict` | <center>None</center>| `new_dict = {'a': 1, 'b':2}` <br><br> `new_dict['a'] = 10`| `{'a': 10, 'b':2}`|\n",
    "\n",
    "<h3> <center> Accessing / Taking Out Data </center></h3>\n",
    "\n",
    "|Collection Type | Functions | x to be| Examples |\n",
    "| ---------|---------|---------| ------ |\n",
    "| `list` | <center>None</center>| 3 |`new_list = [1,2,3]` <br><br> `x = new_list[2] `|\n",
    "| `list of list` | <center>None</center>|3 |`new_list = [[1,2],[3,4]]` <br><br> `x = new_list[1][0] `|\n",
    "| `list of dict` | <center>None</center>| 2 |`new_list = [{'a':1},{'b':2}]` <br><br> `x = new_list[1]['b'] `|\n",
    "| `dict` | <center>None</center>| 2|`new_dict = {'a': 1, 'b':2}` <br><br> `x = new_dict['b']`|\n",
    "\n",
    "<h3>CITU Framework & Applied Iterations</h3>\n",
    "\n",
    "1. What variables do you need to answer this question?\n",
    "1. <b>Create</b> the results container\n",
    "2. <b>Iterate</b> the input data/list\n",
    "3. <b>Take out the variables you needed in step 1</b>\n",
    "3. <b>Test</b> conditions of each value\n",
    "4. <b>Update</b> the results container when condition is fulfilled\n",
    "\n",
    "<h3> Sorting Values</h3>\n",
    "\n",
    "```python\n",
    "    \n",
    "x = [10,20,50,2,4]\n",
    "x.sort()\n",
    "print(x) # [2,4,10,20,50]\n",
    "x.sort(reverse=True)\n",
    "print(x) # [50,20,10,4,2]\n",
    "```\n",
    "Further explore the .sort() function in the documentation\n",
    "\n",
    "Search up 'list .sort() python 3.0' \n"
   ]
  },
  {
   "cell_type": "markdown",
   "metadata": {},
   "source": [
    "<hr>\n",
    "\n",
    "</hr>\n",
    "<br>\n",
    "</br>\n",
    "\n",
    "<img src=\"http://www.stickpng.com/assets/images/580b57fcd9996e24bc43c513.png\" width=\"400\">\n",
    "<br>\n",
    "</br>\n",
    "<br>\n",
    "</br>\n",
    "\n",
    "<b>Welcome to your final project of Hackwagon Academy DS101! You've come a long way since the start of this course and if you've been on track with our exercises, you should find this doable. </b>\n",
    "\n",
    "Airbnb is an online marketplace and hospitality service, enabling people to lease or rent short-term lodging including vacation rentals, apartment rentals, homestays, hostel beds, or hotel rooms. The company does not own any lodging; it is merely a broker and receives percentage service fees (commissions) from both guests and hosts in conjunction with every booking. In this project, we aim to use algorithms and libraries to mine the reviews people have submitted on Singapore AirBnB rentals in order to provide descriptive analytics.\n",
    "\n",
    "\n",
    "<h2> Load File </h2>\n",
    "\n",
    "Load the `airbnb_data.csv` as <b>a list of dictionaries</b> into a new variable called `airbnb_data`. Once you load the data, you should see something like this:\n",
    "```python\n",
    "    [\n",
    "        {\n",
    "         'listing_id': '1133718',\n",
    "         'survey_id': '1280',\n",
    "         'host_id': '6219420',\n",
    "         'room_type': 'Shared room',\n",
    "         'country': '',\n",
    "         'city': 'Singapore',\n",
    "         'borough': '',\n",
    "         'neighborhood': 'MK03',\n",
    "         'reviews': '9',\n",
    "         'overall_satisfaction': '4.5',\n",
    "         'accommodates': '12',\n",
    "         'bedrooms': '1.0',\n",
    "         'bathrooms': '',\n",
    "         'price': '74.0',\n",
    "         'minstay': '',\n",
    "         'last_modified': '2017-05-17 09:10:25.431659',\n",
    "         'latitude': '1.293354',\n",
    "         'longitude': '103.769226',\n",
    "         'location': '0101000020E6100000E84EB0FF3AF159409C69C2F693B1F43F'\n",
    "        }\n",
    "        ...\n",
    "    ]\n",
    "```"
   ]
  },
  {
   "cell_type": "code",
   "execution_count": 1,
   "metadata": {},
   "outputs": [
    {
     "data": {
      "text/plain": [
       "[{'listing_id': '1133718',\n",
       "  'survey_id': '1280',\n",
       "  'host_id': '6219420',\n",
       "  'room_type': 'Shared room',\n",
       "  'country': '',\n",
       "  'city': 'Singapore',\n",
       "  'borough': '',\n",
       "  'neighborhood': 'MK03',\n",
       "  'reviews': '9',\n",
       "  'overall_satisfaction': '4.5',\n",
       "  'accommodates': '12',\n",
       "  'bedrooms': '1.0',\n",
       "  'bathrooms': '',\n",
       "  'price': '74.0',\n",
       "  'minstay': '',\n",
       "  'last_modified': '2017-05-17 09:10:25.431659',\n",
       "  'latitude': '1.293354',\n",
       "  'longitude': '103.769226',\n",
       "  'location': '0101000020E6100000E84EB0FF3AF159409C69C2F693B1F43F'},\n",
       " {'listing_id': '3179080',\n",
       "  'survey_id': '1280',\n",
       "  'host_id': '15295886',\n",
       "  'room_type': 'Shared room',\n",
       "  'country': '',\n",
       "  'city': 'Singapore',\n",
       "  'borough': '',\n",
       "  'neighborhood': 'TS17',\n",
       "  'reviews': '15',\n",
       "  'overall_satisfaction': '5.0',\n",
       "  'accommodates': '12',\n",
       "  'bedrooms': '1.0',\n",
       "  'bathrooms': '',\n",
       "  'price': '77.0',\n",
       "  'minstay': '',\n",
       "  'last_modified': '2017-05-17 09:10:24.216548',\n",
       "  'latitude': '1.310862',\n",
       "  'longitude': '103.858828',\n",
       "  'location': '0101000020E6100000E738B709F7F659403F1BB96E4AF9F43F'},\n",
       " {'listing_id': '15303457',\n",
       "  'survey_id': '1280',\n",
       "  'host_id': '97053568',\n",
       "  'room_type': 'Shared room',\n",
       "  'country': '',\n",
       "  'city': 'Singapore',\n",
       "  'borough': '',\n",
       "  'neighborhood': 'MK05',\n",
       "  'reviews': '0',\n",
       "  'overall_satisfaction': '0.0',\n",
       "  'accommodates': '14',\n",
       "  'bedrooms': '1.0',\n",
       "  'bathrooms': '',\n",
       "  'price': '60.0',\n",
       "  'minstay': '',\n",
       "  'last_modified': '2017-05-17 09:10:16.969900',\n",
       "  'latitude': '1.333744',\n",
       "  'longitude': '103.764612',\n",
       "  'location': '0101000020E610000044882B67EFF0594093C7D3F20357F53F'}]"
      ]
     },
     "execution_count": 1,
     "metadata": {},
     "output_type": "execute_result"
    }
   ],
   "source": [
    "# Read file into a list called airbnb_data\n",
    "\n",
    "import csv\n",
    "\n",
    "with open (\"airbnb_data.csv\", encoding=\"utf-8\") as f:\n",
    "    \n",
    "    reader = csv.DictReader(f)\n",
    "    \n",
    "         \n",
    "    airbnb_data = []\n",
    "    for row in reader:\n",
    "        airbnb_data.append(dict(row))\n",
    "        \n",
    "        \n",
    "airbnb_data[0:3]    "
   ]
  },
  {
   "cell_type": "markdown",
   "metadata": {},
   "source": [
    "## Data Cleaning <font color='red'>(5 marks)</font>\n",
    "\n",
    "<b>Once this is done correctly, you do not need to change the type for the remaining parts of your project.</b>\n",
    "<br>\n",
    "<br>\n",
    "<i>\n",
    "Very Big Hint:  \n",
    "</i>\n",
    "\n",
    "```python\n",
    "for row in data:\n",
    "    row['score'] = int(row['score'])\n",
    "```\n",
    "\n",
    "Preview your data and clean them to appropriate type. Namely these columns:\n",
    "1. `overall_satisfaction`\n",
    "2. `price`\n",
    "3. `longitude`\n",
    "4. `latitude`\n",
    "5. `reviews`\n",
    "\n",
    "<b>Expected Output:</b>\n",
    "```python\n",
    "    {\n",
    "        'listing_id': '1133718',\n",
    "        'survey_id': '1280',\n",
    "        'host_id': '6219420',\n",
    "        'room_type': 'Shared room',\n",
    "        'country': '',\n",
    "        'city': 'Singapore',\n",
    "        'borough': '',\n",
    "        'neighborhood': 'MK03',\n",
    "        'reviews': 9.0,\n",
    "        'overall_satisfaction': 4.5,\n",
    "        'accommodates': '12',\n",
    "        'bedrooms': '1.0',\n",
    "        'bathrooms': '',\n",
    "        'price': 74.0,\n",
    "        'minstay': '',\n",
    "        'last_modified': '2017-05-17 09:10:25.431659',\n",
    "        'latitude': 1.293354,\n",
    "        'longitude': 103.769226,\n",
    "        'location': '0101000020E6100000E84EB0FF3AF159409C69C2F693B1F43F'\n",
    "    }\n",
    "```"
   ]
  },
  {
   "cell_type": "code",
   "execution_count": 2,
   "metadata": {},
   "outputs": [
    {
     "name": "stdout",
     "output_type": "stream",
     "text": [
      "[{'listing_id': '1133718', 'survey_id': '1280', 'host_id': '6219420', 'room_type': 'Shared room', 'country': '', 'city': 'Singapore', 'borough': '', 'neighborhood': 'MK03', 'reviews': 9.0, 'overall_satisfaction': 4.5, 'accommodates': '12', 'bedrooms': '1.0', 'bathrooms': '', 'price': 74.0, 'minstay': '', 'last_modified': '2017-05-17 09:10:25.431659', 'latitude': 1.293354, 'longitude': 103.769226, 'location': '0101000020E6100000E84EB0FF3AF159409C69C2F693B1F43F'}]\n"
     ]
    }
   ],
   "source": [
    "#Write code below\n",
    "\n",
    "for row in airbnb_data:\n",
    "    row['overall_satisfaction'] = float(row['overall_satisfaction'])\n",
    "    row['price'] = float(row['price'])\n",
    "    row['longitude'] = float(row['longitude'])\n",
    "    row['latitude'] = float(row['latitude'])\n",
    "    row['reviews'] = float(row['reviews'])\n",
    "    \n",
    "print(airbnb_data[0:1])\n",
    "\n",
    "# Good job!"
   ]
  },
  {
   "cell_type": "markdown",
   "metadata": {},
   "source": [
    "## Exploratory Data Analysis <font color='red'>(35 marks)</font>\n",
    "\n",
    "The data team at AirBnB wishes to find out the answers to a few simple questions on the existing listings in Singapore. Your goal is to manipulate the data you have stored in the list of dictionaries and <b>understand some of the basic statistics of your dataset.</b> The following are some of the common <i>first</i> questions asked."
   ]
  },
  {
   "cell_type": "markdown",
   "metadata": {},
   "source": [
    "<h4> Q1. List out each neighborhoods and their number of listings <font color='red'>(5 marks)</font></h4>\n",
    "\n",
    "<i> Hint\n",
    "1. Counting with dictionaries, where key is neigbhorhood id, value is counts.\n",
    "</i>\n",
    "\n",
    "<b>Expected Output:</b>\n",
    "```python\n",
    "    print(results['TS17']) # 342 counts.\n",
    "```"
   ]
  },
  {
   "cell_type": "code",
   "execution_count": 3,
   "metadata": {
    "scrolled": true
   },
   "outputs": [
    {
     "name": "stdout",
     "output_type": "stream",
     "text": [
      "342\n"
     ]
    }
   ],
   "source": [
    "#Write code below\n",
    "\n",
    "results = {}\n",
    "\n",
    "for row in airbnb_data:\n",
    "    \n",
    "    neighborhood = row['neighborhood']\n",
    "    \n",
    "    if neighborhood not in results:\n",
    "        \n",
    "        results[neighborhood] = 1\n",
    "        \n",
    "    else:\n",
    "        \n",
    "        results[neighborhood] +=1\n",
    "        \n",
    "print(results['TS17'])\n",
    "\n",
    "# Good job!"
   ]
  },
  {
   "cell_type": "markdown",
   "metadata": {},
   "source": [
    "<h4> Q2. List out each neighborhood and their average overall_satisfaction <font color='red'>(5 marks)</font> </h4>\n",
    "\n",
    "<b>Note: You should filter out listings whose reviews are 0. </b>\n",
    "\n",
    "<i> Hint\n",
    "1. Create 2 dictionaries\n",
    "    - Dictionary 1: Key is neighborhood, value is an accumulation of scores\n",
    "    - Dictionary 2: Key is neighborhood, value is an accumulation of counts\n",
    "2. Create 3rd dictionary\n",
    "3. Loop through 1 dictionary (using 1 for loop only because both share same key!), calculate average and store in 3rd dictionary\n",
    "</i>\n",
    "\n",
    "<b>Expected Output:</b>\n",
    "```python\n",
    "    print(results['TS17']) # it should give you an average score of 2.859447004608295.\n",
    "```"
   ]
  },
  {
   "cell_type": "code",
   "execution_count": 4,
   "metadata": {
    "scrolled": true
   },
   "outputs": [
    {
     "name": "stdout",
     "output_type": "stream",
     "text": [
      "2.859447004608295\n"
     ]
    }
   ],
   "source": [
    "#Write code below\n",
    "\n",
    "neighborhood_scores = {}\n",
    "neighborhood_counts = {}\n",
    "average_score = {}\n",
    "\n",
    "for row in airbnb_data: \n",
    "    neighborhood = row['neighborhood']\n",
    "    reviews = row['reviews']\n",
    "    overall_satisfaction = row['overall_satisfaction']\n",
    "    \n",
    "    if reviews > 0:    \n",
    "        if neighborhood not in neighborhood_counts: \n",
    "            \n",
    "            neighborhood_counts[neighborhood] = 1  \n",
    "            neighborhood_scores[neighborhood] = overall_satisfaction\n",
    "             \n",
    "        else:        \n",
    "            neighborhood_counts[neighborhood] += 1\n",
    "            neighborhood_scores[neighborhood] += overall_satisfaction\n",
    "\n",
    "        average_score[neighborhood] = neighborhood_scores[neighborhood] / neighborhood_counts[neighborhood]\n",
    "\n",
    "print(average_score['TS17'])\n",
    "\n",
    "# Good job!"
   ]
  },
  {
   "cell_type": "markdown",
   "metadata": {},
   "source": [
    "<h4> Q3. List out each neighborhood and their average price <font color='red'>(5 marks)</font></h4>\n",
    "\n",
    "<i> Hint\n",
    "1. Similar to previous question\n",
    "</i>\n",
    "\n",
    "<b>Expected Output:</b>\n",
    "```python\n",
    "    print(results['TS17']) # it should give you an average price of 95.5672514619883.\n",
    "```"
   ]
  },
  {
   "cell_type": "code",
   "execution_count": 5,
   "metadata": {
    "scrolled": true
   },
   "outputs": [
    {
     "name": "stdout",
     "output_type": "stream",
     "text": [
      "95.5672514619883\n"
     ]
    }
   ],
   "source": [
    "#Write code below\n",
    "\n",
    "neighborhood_price = {}\n",
    "neighborhood_counts = {}\n",
    "average_price = {}\n",
    "\n",
    "for row in airbnb_data: \n",
    "    neighborhood = row['neighborhood']\n",
    "    reviews = row['reviews']\n",
    "    price = row['price']\n",
    "       \n",
    "    if neighborhood not in neighborhood_counts: \n",
    "            \n",
    "        neighborhood_counts[neighborhood] = 1  \n",
    "        neighborhood_price[neighborhood] = price\n",
    "             \n",
    "    else:        \n",
    "        neighborhood_counts[neighborhood] += 1\n",
    "        neighborhood_price[neighborhood] += price\n",
    "\n",
    "    average_price[neighborhood] = neighborhood_price[neighborhood] / neighborhood_counts[neighborhood]\n",
    "\n",
    "print(average_price['TS17'])\n",
    "\n",
    "# Good job!"
   ]
  },
  {
   "cell_type": "markdown",
   "metadata": {},
   "source": [
    "# <h4> Q4. Plot a distribution of counts of the overall_satisfaction <font color='red'>(5 marks)</font></h4>\n",
    "\n",
    "<b>Note: You should filter out listings whose reviews are 0. </b>\n",
    "\n",
    "<i> Hint\n",
    "1. Counting with dictionaries\n",
    "2. Get a list of tuples with `.items()`\n",
    "3. Create 2 lists: \n",
    "    - 1 for all the scores labels\n",
    "    - 1 for all the counts \n",
    "4. Plot with the 2 lists\n",
    "</i>\n",
    "\n",
    "<b>Expected Output:</b>\n",
    "\n",
    "<img src=\"https://i.imgur.com/bj0ecjO.png\" width=\"300\">"
   ]
  },
  {
   "cell_type": "code",
   "execution_count": 6,
   "metadata": {},
   "outputs": [
    {
     "name": "stdout",
     "output_type": "stream",
     "text": [
      "dict_items([(4.5, 1435), (5.0, 1032), (0.0, 1408), (4.0, 476), (3.5, 155), (2.5, 12), (3.0, 44), (2.0, 3), (1.0, 1), (1.5, 1)])\n"
     ]
    },
    {
     "data": {
      "image/png": "[encoded data removed]",
      "text/plain": [
       "<Figure size 432x288 with 1 Axes>"
      ]
     },
     "metadata": {
      "needs_background": "light"
     },
     "output_type": "display_data"
    }
   ],
   "source": [
    "# Remember to import the relevant library/libraries!\n",
    "# Write code below\n",
    "\n",
    "satisfaction = {}\n",
    "satisfaction_tup_score = []\n",
    "satisfaction_tup_count = []\n",
    "\n",
    "for row in airbnb_data:\n",
    "    overall_satisfaction = row['overall_satisfaction']\n",
    "    reviews = row['reviews']\n",
    "    \n",
    "    if reviews > 0:   \n",
    "        if overall_satisfaction not in satisfaction:\n",
    "        \n",
    "            satisfaction[overall_satisfaction] = 1\n",
    "        \n",
    "        else:\n",
    "        \n",
    "            satisfaction[overall_satisfaction] += 1\n",
    "        \n",
    "list_of_tup = satisfaction.items()\n",
    "\n",
    "print(list_of_tup)\n",
    "        \n",
    "for score, count in satisfaction.items():    \n",
    "    satisfaction_tup_score.append(score)\n",
    "    satisfaction_tup_count.append(count)\n",
    "\n",
    "%matplotlib inline\n",
    "\n",
    "import matplotlib\n",
    "import matplotlib.pyplot as plt\n",
    "\n",
    "\n",
    "score = satisfaction_tup_score\n",
    "count = satisfaction_tup_count\n",
    "\n",
    "\n",
    "plt.bar(score, count)\n",
    "\n",
    "plt.xlabel('Overall Satisfaction Scores')\n",
    "plt.ylabel('Counts')\n",
    "plt.title('Distribution of Overall Satisfaction Score')\n",
    "\n",
    "plt.show()\n",
    "\n",
    "# Good job!"
   ]
  },
  {
   "cell_type": "markdown",
   "metadata": {},
   "source": [
    "<h4> Q5. Plot a geographical representation of all of the listings in Singapore <font color='red'>(5 marks)</font></h4>\n",
    "\n",
    "<i> Hint\n",
    "1. Create a list for latitude\n",
    "2. Create a list for longitude\n",
    "3. Append each listing's latitude and logitude to the lists\n",
    "4. Plot a scatter plot using both lists\n",
    "</i>\n",
    "\n",
    "<b>Expected Output:</b>\n",
    "\n",
    "<img src='https://i.imgur.com/9Dp5HrD.png' width=\"300\">    "
   ]
  },
  {
   "cell_type": "code",
   "execution_count": 7,
   "metadata": {},
   "outputs": [
    {
     "data": {
      "image/png": "[encoded data removed]",
      "text/plain": [
       "<Figure size 432x288 with 1 Axes>"
      ]
     },
     "metadata": {
      "needs_background": "light"
     },
     "output_type": "display_data"
    }
   ],
   "source": [
    "#Write code below\n",
    "\n",
    "latitude_list = []\n",
    "longtitude_list = []\n",
    "\n",
    "for row in airbnb_data:\n",
    "    latitude = row['latitude']\n",
    "    longtitude = row['longitude']\n",
    "    \n",
    "    latitude_list.append(latitude)\n",
    "    longtitude_list.append(longtitude)\n",
    "    \n",
    "%matplotlib inline\n",
    "\n",
    "import matplotlib\n",
    "import matplotlib.pyplot as plt\n",
    "\n",
    "lat = latitude_list\n",
    "lon = longtitude_list\n",
    "\n",
    "plt.scatter(lon, lat)\n",
    "\n",
    "plt.xlabel('Longtitude')\n",
    "plt.ylabel('Latitude')\n",
    "plt.title('Geographical Representaion of All Airbnb Listings in Singapore')\n",
    "\n",
    "plt.show()\n",
    "\n",
    "# Good job!"
   ]
  },
  {
   "cell_type": "markdown",
   "metadata": {},
   "source": [
    "<h2> Interpretation <font color='red'></font> </h2>\n",
    "\n",
    "Based on the earlier questions, answer the following questions to understand the Airbnb dataset better. \n",
    "\n",
    "<i>You're free to make some assumptions</i>\n",
    "\n",
    "#### Q1. Why  `overall_satisfaction` is in intervals of 0.5? <font color='red'>(5 marks)</font>"
   ]
  },
  {
   "cell_type": "code",
   "execution_count": 9,
   "metadata": {},
   "outputs": [],
   "source": [
    "# Answer: Calculating averages will be more accurate \n",
    "\n",
    "# 0/5\n",
    "# You have to explain why it would be more accurate"
   ]
  },
  {
   "cell_type": "markdown",
   "metadata": {},
   "source": [
    "#### Q2. Why was there a need to filter reviews greater than 0 in question 2 and 4?  <font color='red'>(5 marks)</font>"
   ]
  },
  {
   "cell_type": "code",
   "execution_count": 10,
   "metadata": {},
   "outputs": [],
   "source": [
    "# Answer: When there are no reviews, we can assume that there no data on overall satisfaction collected from those who have stayed in the apartments.\n",
    "\n",
    "# Good job!"
   ]
  },
  {
   "cell_type": "markdown",
   "metadata": {},
   "source": [
    "<hr>\n",
    "</hr>\n",
    "<h2> AirBnB Visualisation and Price Recommender App <font color='red'>(60 marks)</font></h2>\n",
    "\n",
    "<b>Attempts to create the functions are awarded 2 marks each</b>\n",
    "\n",
    "<b>Scenario:</b>\n",
    "\n",
    "Based on the earlier EDA, we have seen that it is not modular and does not allow the AirBnB team to look into each neighborhood. Nevertheless, the AirBnB data team have tasked you to build a simple application to improve the earlier EDA while serving its 2 users: Guests and Hosts. \n",
    "\n",
    "<b>Your objective:</b> Develop an <b><i>app</i></b> which will serve the 2 main users:\n",
    "1. Guests\n",
    "    - Visualisation tool to recommend them the best listings based on price and overall satisfaction score in a neighborhood\n",
    "2. Hosts\n",
    "    - Recommend a price to set for their listing in a given neighborhood based on better performing listings\n",
    "\n",
    "<hr>\n",
    "</hr>"
   ]
  },
  {
   "cell_type": "markdown",
   "metadata": {},
   "source": [
    "<div class=\"alert alert-block alert-danger\">\n",
    "<b>THIS NEXT CELL IS IMPORTANT FOR YOUR APPLICATION.</b> Run it to install this package called <b><i>mplleaflet</i></b>.\n",
    "    \n",
    "How do you know if you installed the library correctly? Try running the cell after this one <i>(not the line that says \"!pip install mplleaflet\", its the other one)</i>, if you don't get an error, you are good to go! \n",
    "\n",
    "If you face any issues, please contact any of your TAs or Instructors.</div>"
   ]
  },
  {
   "cell_type": "code",
   "execution_count": 11,
   "metadata": {},
   "outputs": [
    {
     "name": "stdout",
     "output_type": "stream",
     "text": [
      "Requirement already satisfied: mplleaflet in c:\\users\\theron\\anaconda3\\lib\\site-packages (0.0.5)\n",
      "Requirement already satisfied: jinja2 in c:\\users\\theron\\anaconda3\\lib\\site-packages (from mplleaflet) (2.10)\n",
      "Requirement already satisfied: six in c:\\users\\theron\\anaconda3\\lib\\site-packages (from mplleaflet) (1.12.0)\n",
      "Requirement already satisfied: MarkupSafe>=0.23 in c:\\users\\theron\\anaconda3\\lib\\site-packages (from jinja2->mplleaflet) (1.1.1)\n"
     ]
    }
   ],
   "source": [
    "!pip install mplleaflet"
   ]
  },
  {
   "cell_type": "markdown",
   "metadata": {},
   "source": [
    "How do you know if you installed the library correctly? Try running the next cell, if you don't get an error, you are good to go!"
   ]
  },
  {
   "cell_type": "code",
   "execution_count": 8,
   "metadata": {},
   "outputs": [],
   "source": [
    "import mplleaflet"
   ]
  },
  {
   "cell_type": "markdown",
   "metadata": {},
   "source": [
    "<hr></hr>\n",
    "\n",
    "<h2> Building the App </h2>\n",
    "\n",
    "To begin building the App, there are 2 things to do:\n",
    "1. Building the functions\n",
    "2. Testing the functions \n",
    "\n",
    "<b>After we are done building the functions in part 1, we will test them in part 2</b>"
   ]
  },
  {
   "cell_type": "markdown",
   "metadata": {},
   "source": [
    "<div class=\"alert alert-block alert-danger\">\n",
    "Every single function you create must have the <b><i>airbnb_data</b></i> variable as the <b><i>first</b></i> parameter so that you can use it inside the function. \n",
    "</div>\n",
    "\n",
    "``` python\n",
    "def example_function_1(data, x, y, ..): # << do not name as airbnb_data again!\n",
    "    for i in data:\n",
    "        print(i)\n",
    "\n",
    "# when using it.. notice that airbnb_data is placed first, followed by the other parameters\n",
    "example_function_1(airbnb_data, some_x, some_y, ...)\n",
    "```\n",
    "\n",
    "There are a total of 5 functions:\n",
    "1. `get_all_latitudes`\n",
    "2. `get_all_longitudes`\n",
    "3. `listings_recommender`\n",
    "4. `price_recommender`\n",
    "5. `visualise_listings`"
   ]
  },
  {
   "cell_type": "code",
   "execution_count": 13,
   "metadata": {},
   "outputs": [],
   "source": [
    "# Running this cell shows no output. This is normal because the function has been created but not called/used.\n",
    "def example_function(interesting_data):\n",
    "    for i in interesting_data:\n",
    "        print(i)"
   ]
  },
  {
   "cell_type": "code",
   "execution_count": 14,
   "metadata": {},
   "outputs": [
    {
     "name": "stdout",
     "output_type": "stream",
     "text": [
      "1\n",
      "2\n",
      "3\n",
      "4\n",
      "5\n"
     ]
    }
   ],
   "source": [
    "# Running this cell shows an output because the function is called/used.\n",
    "example_function([1,2,3,4,5])"
   ]
  },
  {
   "cell_type": "markdown",
   "metadata": {},
   "source": [
    "### `get_all_latitudes()` - Functions to get all latitudes given a list of listing_ids <font color='red'>(5 marks)</font>\n",
    "\n",
    "\n",
    "<i> Hint\n",
    "1. Create a results list\n",
    "2. Extract the latitude and listing id of each row\n",
    "3. Check listing id exists within the all listings \n",
    "4. If true, append the latitude into the results list\n",
    "5. Return results list\n",
    "</i>\n",
    "\n",
    "<br>\n",
    "\n",
    "<b>Input</b>: `airbnb_data` as `data`, a `list` of listing_ids\n",
    "\n",
    "<b>Return</b>: A `list` of latitudes\n"
   ]
  },
  {
   "cell_type": "code",
   "execution_count": 9,
   "metadata": {},
   "outputs": [],
   "source": [
    "#Write code below\n",
    "\n",
    "def get_all_latitude(airbnb_data, entries):\n",
    "    \n",
    "    results = []    \n",
    "    results_dict = {}\n",
    "    \n",
    "    for row in airbnb_data:\n",
    "        listing_ids = row['listing_id']\n",
    "        latitudes = row['latitude']\n",
    "        \n",
    "        if listing_ids not in results_dict:\n",
    "            results_dict[listing_ids] = latitudes\n",
    "            \n",
    "    for listing_id, lat in results_dict.items():\n",
    "        \n",
    "        if listing_id in entries:\n",
    "            results.append(lat)\n",
    "                       \n",
    "        \n",
    "    return results\n",
    "\n",
    "# Good job!"
   ]
  },
  {
   "cell_type": "markdown",
   "metadata": {},
   "source": [
    "<b>Tester Cell</b> - To test the above function to see if it's working.\n",
    "\n",
    "<b>Expected Output:</b>\n",
    "\n",
    "    [1.305702, 1.296138, 1.304393]"
   ]
  },
  {
   "cell_type": "code",
   "execution_count": 10,
   "metadata": {},
   "outputs": [
    {
     "data": {
      "text/plain": [
       "[1.305702, 1.296138, 1.304393]"
      ]
     },
     "execution_count": 10,
     "metadata": {},
     "output_type": "execute_result"
    }
   ],
   "source": [
    "get_all_latitude(airbnb_data, ['10350448','13507262','13642646'])"
   ]
  },
  {
   "cell_type": "markdown",
   "metadata": {},
   "source": [
    "### `get_all_longitudes()` - Functions to get all longitudes given a list of listing_ids <font color='red'>(5 marks)</font>\n",
    "\n",
    "<i> Hint\n",
    "1. Same as previous question, just that it's about longitudes now\n",
    "</i>\n",
    "\n",
    "<br>\n",
    "\n",
    "<b>Input</b>: `airbnb_data` as `data`, a `list` of listing_ids\n",
    "\n",
    "<b>Return</b>: A `list` of longitudes"
   ]
  },
  {
   "cell_type": "code",
   "execution_count": 11,
   "metadata": {},
   "outputs": [],
   "source": [
    "#Write code below\n",
    "\n",
    "def get_all_longitude(airbnb_data, entries):\n",
    "    \n",
    "    results = []\n",
    "    results_dict = {}\n",
    "    \n",
    "    for row in airbnb_data:\n",
    "        listing_ids = row['listing_id']\n",
    "        longitude = row['longitude']\n",
    "        \n",
    "        if listing_ids not in results_dict:\n",
    "            results_dict[listing_ids] = longitude\n",
    "            \n",
    "    for listing_id, long in results_dict.items():\n",
    "        \n",
    "        if listing_id in entries:\n",
    "            results.append(long)\n",
    "            \n",
    "    return results\n",
    "\n",
    "# Good job!"
   ]
  },
  {
   "cell_type": "markdown",
   "metadata": {},
   "source": [
    "<b>Tester Cell</b> - To test the above function to see if it's working.\n",
    "\n",
    "<b>Expected Output:</b>\n",
    "\n",
    "    [103.79878, 103.767841, 103.784174]"
   ]
  },
  {
   "cell_type": "code",
   "execution_count": 12,
   "metadata": {},
   "outputs": [
    {
     "data": {
      "text/plain": [
       "[103.79878, 103.767841, 103.784174]"
      ]
     },
     "execution_count": 12,
     "metadata": {},
     "output_type": "execute_result"
    }
   ],
   "source": [
    "get_all_longitude(airbnb_data, ['10350448','13507262','13642646'])"
   ]
  },
  {
   "cell_type": "markdown",
   "metadata": {},
   "source": [
    "### `listings_recommender()` - Function to recommend all listings based on a given price, satisfaction score and neighborhood <font color='red'>(15 marks)</font>\n",
    "\n",
    "Note:\n",
    "1. Lesser than or equal to that price\n",
    "2. Equal or more than that overall satisfaction score\n",
    "3. In that neighborhood\n",
    "\n",
    "<i> Hint\n",
    "1. Create a results list\n",
    "2. Extract the relevant of each row\n",
    "3. Check it satisfies all conditions passed into the function\n",
    "4. If true, append the listing id into the results list\n",
    "5. Return results list\n",
    "</i>\n",
    "\n",
    "<b>Input</b>: `airbnb_data` as `data`, price, overall_satisfaction, neighborhood_id\n",
    "\n",
    "<b>Return</b>: A `list` of listing_ids"
   ]
  },
  {
   "cell_type": "code",
   "execution_count": 13,
   "metadata": {},
   "outputs": [],
   "source": [
    "#Write code below\n",
    "\n",
    "def listings_recommender(airbnb_data, price_entry, overall_satisfaction_entry, neighborhood_id_entry):\n",
    "    \n",
    "    results = []\n",
    "    \n",
    "    for row in airbnb_data:\n",
    "        price = row['price']\n",
    "        overall_satisfaction = row['overall_satisfaction']\n",
    "        neighborhood_id = row['neighborhood']\n",
    "        listing_ids = row['listing_id']\n",
    "        \n",
    "        if price <= price_entry:\n",
    "            if overall_satisfaction >= overall_satisfaction_entry:\n",
    "                if neighborhood_id == neighborhood_id_entry:\n",
    "                    if listing_ids not in results:\n",
    "                        \n",
    "                        results.append(listing_ids)\n",
    "                            \n",
    "    return results\n",
    "\n",
    "# Good job!"
   ]
  },
  {
   "cell_type": "markdown",
   "metadata": {},
   "source": [
    "<b>Tester Cell</b> - To test the above function to see if it's working.\n",
    "\n",
    "<b>Expected Output:</b>\n",
    "\n",
    "    ['10350448',\n",
    "     '13507262',\n",
    "     '13642646',\n",
    "     '15099645',\n",
    "     '6451493',\n",
    "     '4696031',\n",
    "     '2898794',\n",
    "     '13181050',\n",
    "     '9022211',\n",
    "     '5200263',\n",
    "     '6529707',\n",
    "     '14433262']"
   ]
  },
  {
   "cell_type": "code",
   "execution_count": 14,
   "metadata": {},
   "outputs": [
    {
     "data": {
      "text/plain": [
       "['10350448',\n",
       " '13507262',\n",
       " '13642646',\n",
       " '15099645',\n",
       " '6451493',\n",
       " '4696031',\n",
       " '2898794',\n",
       " '13181050',\n",
       " '9022211',\n",
       " '5200263',\n",
       " '6529707',\n",
       " '14433262']"
      ]
     },
     "execution_count": 14,
     "metadata": {},
     "output_type": "execute_result"
    }
   ],
   "source": [
    "listings_recommender(airbnb_data, 60, 5, 'MK03')"
   ]
  },
  {
   "cell_type": "markdown",
   "metadata": {},
   "source": [
    "### `price_recommender()` - Function to recommend a price in a neighborhood based on average price and overall satisfaction <font color='red'>(15 marks)</font>\n",
    "\n",
    "For this function, we want to build a <b><i>simple</i></b> price recommendation function that will give a potential host a suggested price.\n",
    "\n",
    "To build this, these are the requirements: \n",
    "1. Take all listings in that neighborhood and check for listings with a least 1 review and an overall satisfaction score of 4 or more.\n",
    "2. From that filtered listings, calculate the average price and return that as the suggested price rounded to 2 decimal places.\n",
    "\n",
    "<b>Input</b>: `airbnb_data` as `data`, a neighborhood_id\n",
    "\n",
    "<b>Return</b>: A `float` of recommended price"
   ]
  },
  {
   "cell_type": "code",
   "execution_count": 15,
   "metadata": {},
   "outputs": [],
   "source": [
    "#Write code below\n",
    "\n",
    "def price_recommender(airbnb_data, n_entry):\n",
    "    \n",
    "    apartment_counts = 0\n",
    "    total_prices = 0\n",
    "    \n",
    "    for row in airbnb_data:\n",
    "        reviews = row['reviews']\n",
    "        overall_satisfaction = row['overall_satisfaction']\n",
    "        price = row['price']\n",
    "        neighborhood_id = row['neighborhood']\n",
    "        \n",
    "        \n",
    "        if neighborhood_id == n_entry:\n",
    "            if reviews >= 1:\n",
    "                if overall_satisfaction >= 4:\n",
    "                    \n",
    "                    apartment_counts += 1\n",
    "                    total_prices += price\n",
    "                    \n",
    "                    average_price = round((total_prices / apartment_counts), 2)\n",
    "        \n",
    "    return average_price\n",
    "\n",
    "# Good job!"
   ]
  },
  {
   "cell_type": "markdown",
   "metadata": {},
   "source": [
    "<b>Tester Cell</b> - To test the above function to see if it's working.\n",
    "\n",
    "<b>Expected Output:</b>\n",
    "\n",
    "    66.28"
   ]
  },
  {
   "cell_type": "code",
   "execution_count": 16,
   "metadata": {},
   "outputs": [
    {
     "data": {
      "text/plain": [
       "66.28"
      ]
     },
     "execution_count": 16,
     "metadata": {},
     "output_type": "execute_result"
    }
   ],
   "source": [
    "price_recommender(airbnb_data, 'TS17')"
   ]
  },
  {
   "cell_type": "markdown",
   "metadata": {},
   "source": [
    "### `visualise_listings()` - Function to geographically visualise a given list of listings <font color='red'>(15 marks)</font>\n",
    "\n",
    "<div class=\"alert alert-block alert-info\">\n",
    "<b><center>NOTE</center></b>\n",
    "</div>\n",
    "\n",
    "```python\n",
    "    # To do any visualtion, the last part of the code you would normally do this..\n",
    "    # some code to prepare data\n",
    "    # some code to design the visualisation\n",
    "    plt.show() #<< last line in code to show visualisation\n",
    "```\n",
    "\n",
    "With the new mplleaflet package, you can do the same thing, but just change from `plt.show()` to `mplleaflet.show()`.\n",
    "\n",
    "<div class=\"alert alert-block alert-danger\">\n",
    "<b><center>DO NOT DO THIS</center></b></div>\n",
    "\n",
    "```python\n",
    "    \n",
    "    for i in data:\n",
    "        # some codes here\n",
    "        mplleaflet.show() # << Do not put the .show() function inside the for loop\n",
    "        \n",
    "    mplleaflet.show()# .show() should exist outside your for loop\n",
    "    \n",
    "```\n",
    "\n",
    "\n",
    "<i> Hint\n",
    "1. Use the 2 functions you've created earlier and make 2 lists, latitude and longitude\n",
    "2. Use .scatter() to plot the scatter plot\n",
    "3. .show() the scatter plot\n",
    "</i>\n",
    "\n",
    "<b>Input</b>: `airbnb_data` as `data`, a list of listing_ids\n",
    "\n",
    "<b>Output</b>: Visualisation of locations the listings (nothing to return)\n"
   ]
  },
  {
   "cell_type": "code",
   "execution_count": 17,
   "metadata": {},
   "outputs": [],
   "source": [
    "import mplleaflet\n",
    "import matplotlib.pyplot as plt\n",
    "#Write code below\n",
    "\n",
    "def visualise_listings(airbnb_data, entries):\n",
    "    \n",
    "    lat = get_all_latitude(airbnb_data, entries)\n",
    "    long = get_all_longitude(airbnb_data, entries)     \n",
    "    \n",
    "    plt.scatter(long, lat, marker = '*', c = 'Red', s = 1000)\n",
    "    mplleaflet.show()   \n",
    "\n",
    "# Good job!"
   ]
  },
  {
   "cell_type": "markdown",
   "metadata": {},
   "source": [
    "<b>Tester Cell</b> - To test the above function to see if it's working.\n",
    "\n",
    "<b>Expected Output:</b> \n",
    "\n",
    "<i> Do not have to look exactly like this, as long as the locations are the same, it is fine! </i>\n",
    "\n",
    "<i>If it's working, a new tab will pop out. This is normal.</i>\n",
    "\n",
    "<img src=\"https://i.imgur.com/HwQYouJ.jpg\" width=\"400\">"
   ]
  },
  {
   "cell_type": "code",
   "execution_count": 18,
   "metadata": {},
   "outputs": [],
   "source": [
    "visualise_listings(airbnb_data, ['10350448','13507262','13642646'])"
   ]
  },
  {
   "cell_type": "markdown",
   "metadata": {},
   "source": [
    "<h2> Testing </h2>\n",
    "\n",
    "Here, we will test if your functions are working as they are supposed to.\n",
    "<div class=\"alert alert-block alert-info\">\n",
    "<b>Your task</b>: Use the functions created above, if necessary interchangeably, to answer the questions below.\n",
    "</div>\n",
    "<hr></hr>"
   ]
  },
  {
   "cell_type": "markdown",
   "metadata": {},
   "source": [
    "<h3> User - An Airbnb Host </h3>\n",
    "\n",
    "Imagine now you're an Airbnb host and you are going to use the app you've developed to ask for a recommended price to list your place. \n",
    "\n",
    "<h4> Based on your assigned neighborhood, what is the recommended price for your neighborhood <font color='red'>(2.5 marks)</font></h4>\n",
    "\n",
    "<b>Expected output:</b> 98.52"
   ]
  },
  {
   "cell_type": "code",
   "execution_count": 19,
   "metadata": {},
   "outputs": [
    {
     "data": {
      "text/plain": [
       "98.52"
      ]
     },
     "execution_count": 19,
     "metadata": {},
     "output_type": "execute_result"
    }
   ],
   "source": [
    "neighborhood_to_test = 'TS23'\n",
    "\n",
    "#Write code below\n",
    "\n",
    "price_recommender(airbnb_data, 'TS23')\n",
    "\n",
    "# Good job!"
   ]
  },
  {
   "cell_type": "markdown",
   "metadata": {},
   "source": [
    "<h3> User - An Airbnb Guest </h3>\n",
    "\n",
    "Imagine now you're an Airbnb guest and you are going to use the app to find a list of listings you want based on your search filter/restrictions.\n",
    "\n",
    "<h4> Based on your assigned price, overall_satisfaction and neighborhood, using the functions created above and plot them out on a map <font color='red'>(2.5 marks)</font></h4>\n",
    "\n",
    "<b>Expected output:</b> \n",
    "\n",
    "<img src=\"https://i.imgur.com/MnyhDmL.jpg\" width=400>\n",
    "\n",
    "<i>If it's working, a new tab will pop out. This is normal.</i>"
   ]
  },
  {
   "cell_type": "code",
   "execution_count": 26,
   "metadata": {},
   "outputs": [],
   "source": [
    "neighborhood_to_test = 'TS17'\n",
    "price_to_test = 100\n",
    "overall_satisfaction_to_test = 4\n",
    "\n",
    "#Write code below\n",
    "\n",
    "listings = listings_recommender(airbnb_data, price_to_test, overall_satisfaction_to_test, neighborhood_to_test)\n",
    "lat = get_all_latitude(airbnb_data, listings)\n",
    "long = get_all_longitude(airbnb_data, listings)\n",
    "\n",
    "plt.scatter(long, lat, marker = '*', c = 'Red', s = 600)\n",
    "mplleaflet.show()\n",
    "\n",
    "# Good job!"
   ]
  },
  {
   "cell_type": "code",
   "execution_count": null,
   "metadata": {},
   "outputs": [],
   "source": []
  }
 ],
 "metadata": {
  "kernelspec": {
   "display_name": "Python 3",
   "language": "python",
   "name": "python3"
  },
  "language_info": {
   "codemirror_mode": {
    "name": "ipython",
    "version": 3
   },
   "file_extension": ".py",
   "mimetype": "text/x-python",
   "name": "python",
   "nbconvert_exporter": "python",
   "pygments_lexer": "ipython3",
   "version": "3.8.3"
  }
 },
 "nbformat": 4,
 "nbformat_minor": 2
}
